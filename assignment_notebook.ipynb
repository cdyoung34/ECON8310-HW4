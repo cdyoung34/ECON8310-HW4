{
 "cells": [
  {
   "cell_type": "markdown",
   "id": "8e649671-64ae-4692-a381-33974ffa666a",
   "metadata": {},
   "source": [
    "# Assignment 4\n",
    "## Econ 8310 - Business Forecasting\n",
    "\n",
    "This assignment will make use of the bayesian statistical models covered in Lessons 10 to 12. \n",
    "\n",
    "A/B Testing is a critical concept in data science, and for many companies one of the most relevant applications of data-driven decision-making. In order to improve product offerings, marketing campaigns, user interfaces, and many other user-facing interactions, scientists and engineers create experiments to determine the efficacy of proposed changes. Users are then randomly assigned to either the treatment or control group, and their behavior is recorded.\n",
    "If the changes that the treatment group is exposed to can be measured to have a benefit in the metric of interest, then those changes are scaled up and rolled out to across all interactions.\n",
    "Below is a short video detailing the A/B Testing process, in case you want to learn a bit more:\n",
    "[https://youtu.be/DUNk4GPZ9bw](https://youtu.be/DUNk4GPZ9bw)\n",
    "\n",
    "For this assignment, you will use an A/B test data set, which was pulled from the Kaggle website (https://www.kaggle.com/datasets/yufengsui/mobile-games-ab-testing). I have added the data from the page into Codio for you. It can be found in the cookie_cats.csv file in the file tree. It can also be found at [https://github.com/dustywhite7/Econ8310/raw/master/AssignmentData/cookie_cats.csv](https://github.com/dustywhite7/Econ8310/raw/master/AssignmentData/cookie_cats.csv)\n",
    "\n",
    "The variables are defined as follows:\n",
    "\n",
    "| Variable Name  | Definition |\n",
    "|----------------|----|\n",
    "| userid         | A unique number that identifies each player  |\n",
    "| version        | Whether the player was put in the control group (gate_30 - a gate at level 30) or the group with the moved gate (gate_40 - a gate at level 40) |\n",
    "| sum_gamerounds | The number of game rounds played by the player during the first 14 days after install.  |\n",
    "| retention1     | Did the player come back and play 1 day after installing?     |\n",
    "| retention7     | Did the player come back and play 7 days after installing?    |               "
   ]
  },
  {
   "cell_type": "markdown",
   "id": "a7d4d9ba-5349-4ae6-833b-8cea780510d2",
   "metadata": {},
   "source": [
    "### The questions\n",
    "\n",
    "You will be asked to answer the following questions in a small quiz on Canvas:\n",
    "1. What was the effect of moving the gate from level 30 to level 40 on 1-day retention rates?\n",
    "2. What was the effect of moving the gate from level 30 to level 40 on 7-day retention rates?\n",
    "3. What was the biggest challenge for you in completing this assignment?\n",
    "\n",
    "You will also be asked to submit a URL to your forked GitHub repository containing your code used to answer these questions."
   ]
  },
  {
   "cell_type": "code",
   "execution_count": null,
   "id": "bcd35387-b05b-4cb2-9b1f-e1d2c0e43588",
   "metadata": {},
   "outputs": [],
   "source": []
  }
 ],
 "metadata": {
  "kernelspec": {
   "display_name": "Python 3 (ipykernel)",
   "language": "python",
   "name": "python3"
  },
  "language_info": {
   "codemirror_mode": {
    "name": "ipython",
    "version": 3
   },
   "file_extension": ".py",
   "mimetype": "text/x-python",
   "name": "python",
   "nbconvert_exporter": "python",
   "pygments_lexer": "ipython3",
   "version": "3.9.13"
  }
 },
 "nbformat": 4,
 "nbformat_minor": 5
}
